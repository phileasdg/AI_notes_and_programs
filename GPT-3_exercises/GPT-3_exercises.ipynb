{
 "cells": [
  {
   "cell_type": "markdown",
   "metadata": {
    "collapsed": true,
    "pycharm": {
     "name": "#%% md\n"
    }
   },
   "source": [
    "#### The Human Ecology of AI: Problems and Projects\n",
    "# GPT-3 Exercises and Experiments.\n",
    "This document contains a few exercises using which demonstrate some of the functionality of OpenAI's GPT-3 language model.\n",
    "It is designed to"
   ]
  },
  {
   "cell_type": "code",
   "execution_count": 36,
   "outputs": [],
   "source": [
    "import openai"
   ],
   "metadata": {
    "collapsed": false,
    "pycharm": {
     "name": "#%%\n"
    }
   }
  },
  {
   "cell_type": "code",
   "execution_count": 44,
   "outputs": [],
   "source": [
    "# Set up OpenAI GPT-3:\n",
    "openai.api_key = \"your key\"\n",
    "\n",
    "def get_response(prompt, engine=\"davinci\", temp=0.7, max_tok=64, top_p=1, freq_pen=0, pres_pen=0,\n",
    "                 return_whole_obj=False, echo_prompt = True):\n",
    "    response = openai.Completion.create(\n",
    "        engine = engine,\n",
    "        prompt = prompt,\n",
    "        temperature = temp,\n",
    "        max_tokens = max_tok,\n",
    "        top_p = top_p,\n",
    "        frequency_penalty = freq_pen,\n",
    "        presence_penalty = pres_pen\n",
    "    )\n",
    "    if return_whole_obj is True:\n",
    "        return response\n",
    "    else:\n",
    "        if echo_prompt is True:\n",
    "            return str(prompt+response[\"choices\"][0][\"text\"])\n",
    "        else:\n",
    "            return response[\"choices\"][0][\"text\"]\n",
    "\n",
    "response = get_response(\"- Hi there you!\\n-Hi there A\")"
   ],
   "metadata": {
    "collapsed": false,
    "pycharm": {
     "name": "#%%\n"
    }
   }
  },
  {
   "cell_type": "code",
   "execution_count": 48,
   "outputs": [
    {
     "data": {
      "text/plain": "\"- Hi there you!\\n-Hi there A-san.\\n-Is this your first time here?\\n-Yes.\\n-Why don't you take a seat over there?\\n-Okay.\\n-A-san, is this your first time here?\\n-Yes.\\n-Hi there.\\n-A-san, are you alone?\""
     },
     "execution_count": 48,
     "metadata": {},
     "output_type": "execute_result"
    }
   ],
   "source": [
    "response"
   ],
   "metadata": {
    "collapsed": false,
    "pycharm": {
     "name": "#%%\n"
    }
   }
  },
  {
   "cell_type": "markdown",
   "source": [
    "**Completion:**"
   ],
   "metadata": {
    "collapsed": false,
    "pycharm": {
     "name": "#%% md\n"
    }
   }
  },
  {
   "cell_type": "code",
   "source": [
    "from IPython.display import Markdown as md\n",
    "md(format(response))"
   ],
   "metadata": {
    "collapsed": false,
    "pycharm": {
     "name": "#%%\n"
    }
   },
   "outputs": [
    {
     "data": {
      "text/plain": "<IPython.core.display.Markdown object>",
      "text/markdown": "- Hi there you!\n-Hi there A-san.\n-Is this your first time here?\n-Yes.\n-Why don't you take a seat over there?\n-Okay.\n-A-san, is this your first time here?\n-Yes.\n-Hi there.\n-A-san, are you alone?"
     },
     "execution_count": 58,
     "metadata": {},
     "output_type": "execute_result"
    }
   ],
   "execution_count": 58
  }
 ],
 "metadata": {
  "kernelspec": {
   "name": "python3",
   "language": "python",
   "display_name": "Python 3 (ipykernel)"
  },
  "language_info": {
   "codemirror_mode": {
    "name": "ipython",
    "version": 2
   },
   "file_extension": ".py",
   "mimetype": "text/x-python",
   "name": "python",
   "nbconvert_exporter": "python",
   "pygments_lexer": "ipython2",
   "version": "2.7.6"
  }
 },
 "nbformat": 4,
 "nbformat_minor": 0
}