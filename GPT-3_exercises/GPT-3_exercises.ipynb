{
 "cells": [
  {
   "cell_type": "markdown",
   "metadata": {
    "collapsed": true,
    "pycharm": {
     "name": "#%% md\n"
    }
   },
   "source": [
    "#### The Human Ecology of AI: Problems and Projects\n",
    "# GPT-3 Exercises and Experiments.\n",
    "This document contains a few exercises using which demonstrate some of the functionality of OpenAI's GPT-3 language model.\n",
    "\n",
    "## Setting up the GPT-3 API"
   ]
  },
  {
   "cell_type": "code",
   "execution_count": 2,
   "outputs": [],
   "source": [
    "# imports\n",
    "from IPython.display import Markdown as md\n",
    "import gpt3_handy_functions as gpt3\n",
    "\n",
    "# setup\n",
    "gpt3.setup()"
   ],
   "metadata": {
    "collapsed": false,
    "pycharm": {
     "name": "#%%\n"
    }
   }
  },
  {
   "cell_type": "markdown",
   "source": [
    "## Getting GPT-3 to continue a prompt:"
   ],
   "metadata": {
    "collapsed": false,
    "pycharm": {
     "name": "#%% md\n"
    }
   }
  },
  {
   "cell_type": "code",
   "execution_count": 3,
   "outputs": [],
   "source": [
    "completion = gpt3.get_response(\"Well well well... What\")"
   ],
   "metadata": {
    "collapsed": false,
    "pycharm": {
     "name": "#%%\n"
    }
   }
  },
  {
   "cell_type": "markdown",
   "source": [
    "GPT-3's completion:"
   ],
   "metadata": {
    "collapsed": false
   }
  },
  {
   "cell_type": "code",
   "execution_count": 4,
   "outputs": [
    {
     "data": {
      "text/plain": "<IPython.core.display.Markdown object>",
      "text/markdown": "Well well well... What do we have here? I haven't seen a pretty face like yours in a while! I'm Granny Smith, and you are? Good to meet ya, I've been meaning to visit today, but I'm a bit late. I don't really keep track of time, since I'm a tree. I"
     },
     "execution_count": 4,
     "metadata": {},
     "output_type": "execute_result"
    }
   ],
   "source": [
    "md(format(completion))"
   ],
   "metadata": {
    "collapsed": false,
    "pycharm": {
     "name": "#%%\n"
    }
   }
  },
  {
   "cell_type": "markdown",
   "source": [
    "## Getting GPT-3 to generate python code:\n",
    "Let's ask GPT-3 to write some code for us to plot the histogram of a normal distribution."
   ],
   "metadata": {
    "collapsed": false,
    "pycharm": {
     "name": "#%% md\n"
    }
   }
  },
  {
   "cell_type": "code",
   "execution_count": 5,
   "outputs": [
    {
     "name": "stdout",
     "output_type": "stream",
     "text": [
      "\"\"\"\n",
      "plot a histogram of a normal distribution\n",
      "\"\"\"\n",
      "import random\n",
      "import matplotlib.pyplot as plt\n",
      "\n",
      "\n",
      "plt.figure()\n",
      "\n",
      "# fixed seed to generate a random number\n",
      "random.seed(1)\n",
      "# generate 10000 random numbers\n",
      "numbers = [random.normalvariate(0,1) for i in range(0, 10000)]\n",
      "\n",
      "plt.hist(numbers, bins=30, label=\"distribution\")\n",
      "plt.legend(loc='upper right')\n",
      "plt.show()\n"
     ]
    }
   ],
   "source": [
    "completion_code = gpt3.codex_response(\"plot a histogram of a normal distribution\", max_tok=64*2)\n",
    "\n",
    "print(completion_code)"
   ],
   "metadata": {
    "collapsed": false,
    "pycharm": {
     "name": "#%%\n"
    }
   }
  },
  {
   "cell_type": "code",
   "execution_count": 6,
   "outputs": [
    {
     "data": {
      "text/plain": "<Figure size 432x288 with 1 Axes>",
      "image/png": "[encoded data removed]"
     },
     "metadata": {
      "needs_background": "light"
     },
     "output_type": "display_data"
    }
   ],
   "source": [
    "\"\"\"\n",
    "plot a histogram of a normal distribution\n",
    "\"\"\"\n",
    "\n",
    "import numpy as np\n",
    "import matplotlib.pyplot as plt\n",
    "\n",
    "# parameters of normal distribution\n",
    "mu = 0\n",
    "sigma = 1\n",
    "num_bins = 50\n",
    "\n",
    "# generate the data\n",
    "data = mu + sigma * np.random.randn(1000)\n",
    "\n",
    "# plot data\n",
    "n, bins, patches = plt.hist(data, num_bins)\n",
    "\n",
    "plt.xlabel('value')\n",
    "plt.ylabel('frequency')\n",
    "plt.title('normal distribution')\n",
    "\n",
    "plt.show()"
   ],
   "metadata": {
    "collapsed": false,
    "pycharm": {
     "name": "#%%\n"
    }
   }
  },
  {
   "cell_type": "markdown",
   "source": [
    "Okay, so now that we've seen some of the capabilities of this tool, let's experiment with it, and see if we can put it\n",
    "to use!"
   ],
   "metadata": {
    "collapsed": false,
    "pycharm": {
     "name": "#%% md\n"
    }
   }
  },
  {
   "cell_type": "code",
   "execution_count": 7,
   "outputs": [
    {
     "data": {
      "text/plain": "<IPython.core.display.Markdown object>",
      "text/markdown": "A list of made up things:\n-wigglebloo\n-gigglemesh\n-fartar\n-spookle\n-booger-boo\n-chocolate pie\n-pillow-poop\n-marshmellow-poot\n-poot-choo\n-choo-poot\n-squish\n-squ"
     },
     "execution_count": 7,
     "metadata": {},
     "output_type": "execute_result"
    }
   ],
   "source": [
    "md(format(gpt3.get_response(prompt=\"A list of made up things:\\n-wigglebloo\\n-\")))"
   ],
   "metadata": {
    "collapsed": false,
    "pycharm": {
     "name": "#%%\n"
    }
   }
  },
  {
   "cell_type": "code",
   "source": [
    "prompt_1 = \"Australian Journalist: There are a variety of reasons why Australia should be able to switch its submarine contract from France to the United States. \\n\"\n",
    "prompt_2 = \"French Journalist: Le fait que l'Australie souhaite resilier son contrat supervisant sa construction de sous-marins avec la France en faveur des Etats-Units est une insulte à la Françe! \\n\"\n",
    "\n",
    "new_prompt_1 = \"\"\n",
    "new_prompt_2 = \"\"\n",
    "\n",
    "new_prompt_1 = gpt3.get_response(prompt_1+gpt3.get_response(prompt_1)+prompt_2+\"\\n\")\n",
    "\n",
    "print(new_prompt_1)"
   ],
   "metadata": {
    "collapsed": false,
    "pycharm": {
     "name": "#%%\n"
    }
   },
   "execution_count": 10,
   "outputs": [
    {
     "name": "stdout",
     "output_type": "stream",
     "text": [
      "Australian Journalist: There are a variety of reasons why Australia should be able to switch its submarine contract from France to the United States. \n",
      "Australian Journalist: There are a variety of reasons why Australia should be able to switch its submarine contract from France to the United States. \n",
      "\n",
      "Former Head of the Australian Submarine Corporation Rear Admiral Owen Cowan: The US Navy has a long record of very successful submarine design and construction, and of operating a world class submarine fleet.\n",
      "\n",
      "Former Head of the Australian Army General Peter Leahy: The US Navy has the best submarine force in the world.French Journalist: Le fait que l'Australie souhaite resilier son contrat supervisant sa construction de sous-marins avec la France en faveur des Etats-Units est une insulte à la Françe! \n",
      "\n",
      "\n"
     ]
    }
   ]
  }
 ],
 "metadata": {
  "kernelspec": {
   "name": "python3",
   "language": "python",
   "display_name": "Python 3 (ipykernel)"
  },
  "language_info": {
   "codemirror_mode": {
    "name": "ipython",
    "version": 2
   },
   "file_extension": ".py",
   "mimetype": "text/x-python",
   "name": "python",
   "nbconvert_exporter": "python",
   "pygments_lexer": "ipython2",
   "version": "2.7.6"
  }
 },
 "nbformat": 4,
 "nbformat_minor": 0
}